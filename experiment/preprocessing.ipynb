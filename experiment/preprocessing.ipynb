{
 "cells": [
  {
   "cell_type": "code",
   "execution_count": 1,
   "metadata": {
    "collapsed": true
   },
   "outputs": [],
   "source": [
    "import numpy as np\n",
    "import pandas as pd\n",
    "import os\n",
    "import csv\n",
    "import pickle\n",
    "import re"
   ]
  },
  {
   "cell_type": "code",
   "execution_count": 2,
   "metadata": {
    "collapsed": true
   },
   "outputs": [],
   "source": [
    "from nltk.corpus import stopwords\n",
    "stopWords = set(stopwords.words('english'))"
   ]
  },
  {
   "cell_type": "markdown",
   "metadata": {},
   "source": [
    "# READ FILE"
   ]
  },
  {
   "cell_type": "code",
   "execution_count": 3,
   "metadata": {},
   "outputs": [
    {
     "name": "stdout",
     "output_type": "stream",
     "text": [
      "58570.tsv\n",
      "128800.tsv\n",
      "84140.tsv\n",
      "101856.tsv\n",
      "189993.tsv\n",
      "6212.tsv\n",
      "87710.tsv\n",
      "191565.tsv\n",
      "69526.tsv\n",
      "154799.tsv\n",
      "26959.tsv\n",
      "189098.tsv\n",
      "111360.tsv\n",
      "30287.tsv\n",
      "67311.tsv\n",
      "136507.tsv\n",
      "62041.tsv\n",
      "16854.tsv\n",
      "115079.tsv\n",
      "37286.tsv\n",
      "169760.tsv\n",
      "219304.tsv\n",
      "203203.tsv\n",
      "147942.tsv\n",
      "6144.tsv\n",
      "214592.tsv\n",
      "244012.tsv\n"
     ]
    }
   ],
   "source": [
    "file_path = '../data/dialogs/4/' \n",
    "i = 0\n",
    "data = []\n",
    "for file_ in os.listdir(file_path):\n",
    "    if i % 10000 == 0:\n",
    "        print (file_)\n",
    "    with open (file_path + file_) as infile:\n",
    "        tmp = pd.read_table(infile, names = ['time', 'people1', 'people2', 'content'], quoting=csv.QUOTE_NONE)\n",
    "        conversation = []\n",
    "        for sentence in tmp['content']:\n",
    "            if isinstance(sentence, float): continue\n",
    "            sen = []\n",
    "            for token in sentence.split():\n",
    "                token = re.sub(r'[~!@#$%^&\\*\\(\\)_\\+\\-\\=\\[\\]\\{\\}\\\\|,\\.\\/\\`:;<>\\?\\'\\\"]+', '', token)\n",
    "                if token in stopWords or len(token) == 0: continue\n",
    "                sen += token.lower(),\n",
    "            conversation += sen,\n",
    "        data += conversation,\n",
    "    i += 1"
   ]
  },
  {
   "cell_type": "code",
   "execution_count": 4,
   "metadata": {},
   "outputs": [
    {
     "name": "stdout",
     "output_type": "stream",
     "text": [
      "269023\n",
      "4\n",
      "[['q3', 'engine'], ['game', 'data', 'files'], ['wud', 'possible', 'download', 'engine', 'run', 'q3', 'free', 'mods'], ['depends', 'mod', 'tc', 'doesnt', 'depend', 'original', 'game', 'files', 'quake', 'yes']]\n"
     ]
    }
   ],
   "source": [
    "print (len(data))\n",
    "print (len(data[10]))\n",
    "print (data[10])"
   ]
  },
  {
   "cell_type": "code",
   "execution_count": 5,
   "metadata": {
    "collapsed": true
   },
   "outputs": [],
   "source": [
    "with open('../data/data.pickle', 'wb') as handle:\n",
    "    pickle.dump(data, handle, protocol=pickle.HIGHEST_PROTOCOL)"
   ]
  },
  {
   "cell_type": "code",
   "execution_count": 7,
   "metadata": {
    "collapsed": true
   },
   "outputs": [],
   "source": [
    "from collections import defaultdict\n",
    "frequency = defaultdict(int)\n",
    "for conversation in data:\n",
    "    for sentence in conversation:\n",
    "        for token in sentence:\n",
    "            frequency[token] += 1"
   ]
  },
  {
   "cell_type": "code",
   "execution_count": 8,
   "metadata": {
    "collapsed": true
   },
   "outputs": [],
   "source": [
    "texts = [[[token for token in sentence if frequency[token] > 1]\n",
    "            for sentence in conversation]\n",
    "            for conversation in data]"
   ]
  },
  {
   "cell_type": "code",
   "execution_count": 9,
   "metadata": {},
   "outputs": [
    {
     "name": "stdout",
     "output_type": "stream",
     "text": [
      "269023\n",
      "4\n",
      "[['q3', 'engine'], ['game', 'data', 'files'], ['wud', 'possible', 'download', 'engine', 'run', 'q3', 'free', 'mods'], ['depends', 'mod', 'tc', 'doesnt', 'depend', 'original', 'game', 'files', 'quake', 'yes']]\n"
     ]
    }
   ],
   "source": [
    "print (len(texts))\n",
    "print (len(texts[10]))\n",
    "print (texts[10])"
   ]
  },
  {
   "cell_type": "code",
   "execution_count": 10,
   "metadata": {
    "collapsed": true
   },
   "outputs": [],
   "source": [
    "with open('../data/texts.pickle', 'wb') as handle:\n",
    "    pickle.dump(texts, handle, protocol=pickle.HIGHEST_PROTOCOL)"
   ]
  },
  {
   "cell_type": "code",
   "execution_count": 11,
   "metadata": {
    "collapsed": true
   },
   "outputs": [],
   "source": [
    "from gensim import corpora"
   ]
  },
  {
   "cell_type": "code",
   "execution_count": 12,
   "metadata": {
    "collapsed": true
   },
   "outputs": [],
   "source": [
    "flateen_texts1 = [[token for sentence in conversation for token in sentence] for conversation in texts]"
   ]
  },
  {
   "cell_type": "code",
   "execution_count": 13,
   "metadata": {},
   "outputs": [
    {
     "name": "stdout",
     "output_type": "stream",
     "text": [
      "269023\n",
      "23\n",
      "['q3', 'engine', 'game', 'data', 'files', 'wud', 'possible', 'download', 'engine', 'run', 'q3', 'free', 'mods', 'depends', 'mod', 'tc', 'doesnt', 'depend', 'original', 'game', 'files', 'quake', 'yes']\n"
     ]
    }
   ],
   "source": [
    "print (len(flateen_texts1))\n",
    "print (len(flateen_texts1[10]))\n",
    "print (flateen_texts1[10])"
   ]
  },
  {
   "cell_type": "code",
   "execution_count": 14,
   "metadata": {
    "collapsed": true
   },
   "outputs": [],
   "source": [
    "dictionary = corpora.Dictionary(flateen_texts1)\n",
    "dictionary.save('../data/corpora.dict')"
   ]
  },
  {
   "cell_type": "code",
   "execution_count": 15,
   "metadata": {
    "collapsed": true
   },
   "outputs": [],
   "source": [
    "with open('../data/flateen_texts1.pickle', 'wb') as handle:\n",
    "    pickle.dump(flateen_texts1, handle, protocol=pickle.HIGHEST_PROTOCOL)"
   ]
  },
  {
   "cell_type": "code",
   "execution_count": null,
   "metadata": {
    "collapsed": true
   },
   "outputs": [],
   "source": [
    "# x = \"hi~!@#$%^&*()_+`-={}|[]\\:;'<>?,./\"\n",
    "# x = 'hi~!@#$%^&*()_+`-={}|[]\\:;\"<>?,./'\n",
    "# #x = re.sub(r'[~!@#$%^&]+', '', x)\n",
    "# x = re.sub(r'[~!@#$%^&\\*\\(\\)_\\+\\-\\=\\[\\]\\{\\}\\\\|,\\.\\/\\`:;<>\\?\\'\\\"]+', '', x)\n",
    "# #x = re.sub(r'[\\*\\(\\)_\\+\\-\\=\\[\\]\\{\\}\\\\|,\\.\\/\\`]+', '', x)\n",
    "# print(x.strip('[!@#$%^&*()_+]'))"
   ]
  },
  {
   "cell_type": "code",
   "execution_count": null,
   "metadata": {
    "collapsed": true
   },
   "outputs": [],
   "source": []
  }
 ],
 "metadata": {
  "kernelspec": {
   "display_name": "Python 3",
   "language": "python",
   "name": "python3"
  },
  "language_info": {
   "codemirror_mode": {
    "name": "ipython",
    "version": 3
   },
   "file_extension": ".py",
   "mimetype": "text/x-python",
   "name": "python",
   "nbconvert_exporter": "python",
   "pygments_lexer": "ipython3",
   "version": "3.6.4"
  }
 },
 "nbformat": 4,
 "nbformat_minor": 2
}
