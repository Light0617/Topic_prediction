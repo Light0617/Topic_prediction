{
 "cells": [
  {
   "cell_type": "code",
   "execution_count": 1,
   "metadata": {},
   "outputs": [],
   "source": [
    "import pickle\n",
    "from nltk.corpus import words, brown\n",
    "from nltk.corpus import stopwords\n",
    "from gensim import corpora, models, similarities\n",
    "import numpy as np\n",
    "from collections import defaultdict"
   ]
  },
  {
   "cell_type": "code",
   "execution_count": 2,
   "metadata": {},
   "outputs": [],
   "source": [
    "with open('data/flateen_texts1.pickle', 'rb') as handle:\n",
    "    texts = pickle.load(handle)"
   ]
  },
  {
   "cell_type": "code",
   "execution_count": 3,
   "metadata": {},
   "outputs": [],
   "source": [
    "dictionary = corpora.Dictionary.load('data/corpora.dict')"
   ]
  },
  {
   "cell_type": "code",
   "execution_count": 4,
   "metadata": {},
   "outputs": [],
   "source": [
    "corpus = [dictionary.doc2bow(sentenct) for sentenct in texts]"
   ]
  },
  {
   "cell_type": "code",
   "execution_count": 7,
   "metadata": {
    "collapsed": true
   },
   "outputs": [],
   "source": [
    "def train_model(corpus, K):\n",
    "    #create model\n",
    "    lda = models.LdaModel(corpus, num_topics=K)\n",
    "    #get result\n",
    "    topic_conversation = defaultdict(list)\n",
    "    for sentence in texts:\n",
    "        vec = lda[dictionary.doc2bow(sentence)]\n",
    "        try:\n",
    "            prob,topic = max([prob,topic] for topic, prob in vec)\n",
    "            topic_conversation[topic].append(sentence)\n",
    "        except:\n",
    "            topic_conversation[K].append(sentence)\n",
    "    #get the top rank topic\n",
    "    \n",
    "    topic_rank = sorted([[topic, len(topic_conversation[topic])]\n",
    "                         for topic in topic_conversation], key = lambda x : -x[1])\n",
    "    return lda, topic_conversation,topic_rank "
   ]
  },
  {
   "cell_type": "code",
   "execution_count": 8,
   "metadata": {},
   "outputs": [
    {
     "name": "stderr",
     "output_type": "stream",
     "text": [
      "/Users/light0617/anaconda2/envs/py36/lib/python3.6/site-packages/gensim/models/ldamodel.py:775: RuntimeWarning: divide by zero encountered in log\n",
      "  diff = np.log(self.expElogbeta)\n"
     ]
    }
   ],
   "source": [
    "lda_200, topic_conversation_200, topic_rank_200 = train_model(corpus, 200)"
   ]
  },
  {
   "cell_type": "code",
   "execution_count": 9,
   "metadata": {},
   "outputs": [
    {
     "name": "stdout",
     "output_type": "stream",
     "text": [
      "[21, 11654]\n",
      "[151, 6786]\n",
      "[120, 6267]\n",
      "[50, 5550]\n",
      "[185, 5227]\n",
      "[26, 5219]\n",
      "[2, 5110]\n",
      "[184, 4840]\n",
      "[28, 4640]\n",
      "[110, 4334]\n"
     ]
    }
   ],
   "source": [
    "for topic in topic_rank_200[:10]:\n",
    "    print(topic)"
   ]
  },
  {
   "cell_type": "markdown",
   "metadata": {},
   "source": [
    "# Save model and result"
   ]
  },
  {
   "cell_type": "code",
   "execution_count": 10,
   "metadata": {
    "collapsed": true
   },
   "outputs": [],
   "source": [
    "with open('data/topic_conversation_200.pickle', 'wb') as handle:\n",
    "    pickle.dump(topic_conversation_200, handle, protocol=pickle.HIGHEST_PROTOCOL)\n",
    "with open('data/lda_200.pickle', 'wb') as handle:\n",
    "    pickle.dump(lda_200, handle, protocol=pickle.HIGHEST_PROTOCOL)"
   ]
  },
  {
   "cell_type": "code",
   "execution_count": null,
   "metadata": {
    "scrolled": false
   },
   "outputs": [],
   "source": [
    "# topic_conversation = defaultdict(list)\n",
    "# k = 0\n",
    "# for snetence in texts:\n",
    "#     vec = lda[dictionary.doc2bow(snetence)]\n",
    "#     try:\n",
    "#         prob,topic = max([prob,topic] for topic, prob in vec)\n",
    "#         topic_conversation[topic].append(snetence)\n",
    "#     except:\n",
    "#         topic_conversation[K].append(snetence)\n",
    "#         if k < 3:\n",
    "#             print (snetence, vec)\n",
    "#         k += 1"
   ]
  }
 ],
 "metadata": {
  "kernelspec": {
   "display_name": "Python 3",
   "language": "python",
   "name": "python3"
  },
  "language_info": {
   "codemirror_mode": {
    "name": "ipython",
    "version": 3
   },
   "file_extension": ".py",
   "mimetype": "text/x-python",
   "name": "python",
   "nbconvert_exporter": "python",
   "pygments_lexer": "ipython3",
   "version": "3.6.4"
  }
 },
 "nbformat": 4,
 "nbformat_minor": 2
}
