{
 "cells": [
  {
   "cell_type": "code",
   "execution_count": 1,
   "metadata": {
    "collapsed": true
   },
   "outputs": [],
   "source": [
    "import pickle\n",
    "from nltk.corpus import brown, words\n",
    "from nltk.corpus import stopwords\n",
    "from gensim import corpora, models, similarities\n",
    "from collections import defaultdict\n",
    "import numpy as np"
   ]
  },
  {
   "cell_type": "code",
   "execution_count": 2,
   "metadata": {},
   "outputs": [],
   "source": [
    "with open('../data/topic_conversation_200.pickle', 'rb') as handle:\n",
    "    topic_conversation = pickle.load(handle)"
   ]
  },
  {
   "cell_type": "code",
   "execution_count": 3,
   "metadata": {
    "collapsed": true
   },
   "outputs": [],
   "source": [
    "topic_rank = sorted([[topic, len(topic_conversation[topic])]for topic in topic_conversation], key = lambda x : -x[1])"
   ]
  },
  {
   "cell_type": "code",
   "execution_count": 4,
   "metadata": {},
   "outputs": [
    {
     "name": "stdout",
     "output_type": "stream",
     "text": [
      "[3, 11183]\n",
      "[129, 9819]\n",
      "[100, 8597]\n",
      "[131, 6715]\n",
      "[134, 5628]\n",
      "[166, 5023]\n",
      "[146, 4680]\n",
      "[64, 4653]\n",
      "[180, 4467]\n",
      "[149, 4103]\n"
     ]
    }
   ],
   "source": [
    "for topic in topic_rank[:10]:\n",
    "    print(topic)"
   ]
  },
  {
   "cell_type": "code",
   "execution_count": 5,
   "metadata": {
    "collapsed": true
   },
   "outputs": [],
   "source": [
    "wordSet = set(brown.words())"
   ]
  },
  {
   "cell_type": "code",
   "execution_count": 6,
   "metadata": {
    "collapsed": true
   },
   "outputs": [],
   "source": [
    "topic_words_count = defaultdict(dict)\n",
    "total_words_count = defaultdict(int)\n",
    "for topic in topic_conversation:\n",
    "    for sentence in topic_conversation[topic]:\n",
    "        for word in sentence:\n",
    "            if word not in wordSet:\n",
    "                topic_words_count[topic][word] =topic_words_count[topic].get(word, 0) + 1\n",
    "                total_words_count[word] += 1"
   ]
  },
  {
   "cell_type": "code",
   "execution_count": 7,
   "metadata": {},
   "outputs": [
    {
     "name": "stdout",
     "output_type": "stream",
     "text": [
      "1770736\n"
     ]
    }
   ],
   "source": [
    "tfidf_score = defaultdict(dict)\n",
    "N = sum(total_words_count[word] for word in total_words_count)\n",
    "print(N)\n",
    "for topic in topic_words_count:\n",
    "    for word in topic_words_count[topic]:\n",
    "        tf = np.log(1 + topic_words_count[topic][word])\n",
    "        idf = np.log(1 + N / total_words_count[word])\n",
    "        tfidf_score[topic][word] = tf * idf\n",
    "    tfidf_score[topic] = sorted(tfidf_score[topic].items(), key=lambda x : -x[1])"
   ]
  },
  {
   "cell_type": "code",
   "execution_count": 17,
   "metadata": {},
   "outputs": [
    {
     "name": "stdout",
     "output_type": "stream",
     "text": [
      "plz\n",
      "kubuntudesktop\n",
      "android\n",
      "alguien\n",
      "subprocess\n",
      "ubuntubr\n",
      "antivirus\n",
      "fluxbox\n",
      "udev\n",
      "bash\n"
     ]
    }
   ],
   "source": [
    "for topic, count in topic_rank[:10]:\n",
    "    print(tfidf_score[topic][0][0])"
   ]
  },
  {
   "cell_type": "code",
   "execution_count": null,
   "metadata": {
    "collapsed": true
   },
   "outputs": [],
   "source": []
  }
 ],
 "metadata": {
  "kernelspec": {
   "display_name": "Python 3",
   "language": "python",
   "name": "python3"
  },
  "language_info": {
   "codemirror_mode": {
    "name": "ipython",
    "version": 3
   },
   "file_extension": ".py",
   "mimetype": "text/x-python",
   "name": "python",
   "nbconvert_exporter": "python",
   "pygments_lexer": "ipython3",
   "version": "3.6.4"
  }
 },
 "nbformat": 4,
 "nbformat_minor": 2
}
