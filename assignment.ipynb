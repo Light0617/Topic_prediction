{
 "cells": [
  {
   "cell_type": "code",
   "execution_count": 1,
   "metadata": {
    "collapsed": true
   },
   "outputs": [],
   "source": [
    "import numpy as np\n",
    "import pandas as pd"
   ]
  },
  {
   "cell_type": "code",
   "execution_count": 3,
   "metadata": {},
   "outputs": [],
   "source": [
    "with open ('data/dialogs/4/1.tsv') as infile:\n",
    "    data = pd.read_table(infile)"
   ]
  },
  {
   "cell_type": "code",
   "execution_count": 7,
   "metadata": {},
   "outputs": [
    {
     "name": "stdout",
     "output_type": "stream",
     "text": [
      "['2004-09-25T11:29:00.000Z', 'jblack', 'Unnamed: 2', 'geesh. nobody tells me anything.']\n"
     ]
    }
   ],
   "source": []
  },
  {
   "cell_type": "code",
   "execution_count": 8,
   "metadata": {},
   "outputs": [
    {
     "name": "stdout",
     "output_type": "stream",
     "text": [
      "   2004-09-25T11:29:00.000Z    jblack Unnamed: 2  \\\n",
      "0  2004-09-25T11:30:00.000Z    jblack        NaN   \n",
      "1  2004-09-25T11:31:00.000Z    jblack        NaN   \n",
      "2  2004-09-25T11:31:00.000Z  lifeless     jblack   \n",
      "\n",
      "                    geesh. nobody tells me anything.  \n",
      "0                                        Ok. Thanks.  \n",
      "1                                            Got it.  \n",
      "2  its in the email that jdub sent.. and on the n...  \n"
     ]
    }
   ],
   "source": [
    "print data.head()"
   ]
  },
  {
   "cell_type": "code",
   "execution_count": null,
   "metadata": {
    "collapsed": true
   },
   "outputs": [],
   "source": []
  }
 ],
 "metadata": {
  "kernelspec": {
   "display_name": "Python 2",
   "language": "python",
   "name": "python2"
  },
  "language_info": {
   "codemirror_mode": {
    "name": "ipython",
    "version": 2
   },
   "file_extension": ".py",
   "mimetype": "text/x-python",
   "name": "python",
   "nbconvert_exporter": "python",
   "pygments_lexer": "ipython2",
   "version": "2.7.14"
  }
 },
 "nbformat": 4,
 "nbformat_minor": 2
}
