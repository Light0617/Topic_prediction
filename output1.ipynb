{
 "cells": [
  {
   "cell_type": "code",
   "execution_count": 1,
   "metadata": {},
   "outputs": [],
   "source": [
    "import pickle\n",
    "from nltk.corpus import brown, words\n",
    "from nltk.corpus import stopwords\n",
    "from gensim import corpora, models, similarities\n",
    "from collections import defaultdict\n",
    "import numpy as np"
   ]
  },
  {
   "cell_type": "code",
   "execution_count": 2,
   "metadata": {},
   "outputs": [],
   "source": [
    "with open('data/topic_conversation.pickle', 'rb') as handle:\n",
    "    topic_conversation = pickle.load(handle)"
   ]
  },
  {
   "cell_type": "code",
   "execution_count": 3,
   "metadata": {},
   "outputs": [],
   "source": [
    "topic_rank = sorted([[topic, len(topic_conversation[topic])]for topic in topic_conversation], key = lambda x : -x[1])"
   ]
  },
  {
   "cell_type": "code",
   "execution_count": 4,
   "metadata": {},
   "outputs": [
    {
     "name": "stdout",
     "output_type": "stream",
     "text": [
      "[22, 25948]\n",
      "[77, 13582]\n",
      "[44, 8688]\n",
      "[93, 8558]\n",
      "[28, 8155]\n",
      "[70, 7682]\n",
      "[30, 7633]\n",
      "[53, 7392]\n",
      "[9, 6512]\n",
      "[59, 6393]\n"
     ]
    }
   ],
   "source": [
    "for topic in topic_rank[:10]:\n",
    "    print(topic)"
   ]
  },
  {
   "cell_type": "code",
   "execution_count": 5,
   "metadata": {},
   "outputs": [],
   "source": [
    "wordSet = set(brown.words())"
   ]
  },
  {
   "cell_type": "code",
   "execution_count": 6,
   "metadata": {
    "collapsed": true
   },
   "outputs": [],
   "source": [
    "topic_words_count = defaultdict(dict)\n",
    "total_words_count = defaultdict(int)\n",
    "for topic in topic_conversation:\n",
    "    for sentence in topic_conversation[topic]:\n",
    "        for word in sentence:\n",
    "            if word not in wordSet:\n",
    "                topic_words_count[topic][word] =topic_words_count[topic].get(word, 0) + 1\n",
    "                total_words_count[word] += 1"
   ]
  },
  {
   "cell_type": "code",
   "execution_count": 7,
   "metadata": {},
   "outputs": [
    {
     "name": "stdout",
     "output_type": "stream",
     "text": [
      "1770736\n"
     ]
    }
   ],
   "source": [
    "tfidf_score = defaultdict(dict)\n",
    "N = sum(total_words_count[word] for word in total_words_count)\n",
    "print(N)\n",
    "for topic in topic_words_count:\n",
    "    for word in topic_words_count[topic]:\n",
    "        tf = np.log(1 + topic_words_count[topic][word])\n",
    "        idf = np.log(1 + N / total_words_count[word])\n",
    "        tfidf_score[topic][word] = tf * idf\n",
    "    tfidf_score[topic] = sorted(tfidf_score[topic].items(), key=lambda x : -x[1])"
   ]
  },
  {
   "cell_type": "code",
   "execution_count": 9,
   "metadata": {},
   "outputs": [
    {
     "name": "stdout",
     "output_type": "stream",
     "text": [
      "[22, 25948]\n",
      "[('osx', 44.56086280763486), ('win7', 44.40794434995026), ('hal', 44.28390531607398), ('unzip', 44.1187747120512), ('updatemanager', 43.39001507951941), ('mp4', 43.07238510154096), ('launchpad', 42.92462512717164), ('handbrake', 41.139738208496205), ('ctrlc', 40.9534945828187), ('didnt', 40.8420909096297)]\n",
      "[77, 13582]\n",
      "[('plz', 40.52657205409257), ('pm', 38.9328155862287), ('pls', 37.85828861676247), ('newbie', 36.90636320094303), ('some1', 35.86904440497285), ('noob', 35.83003533617268), ('winehq', 35.54483294072499), ('ubuntu1', 35.383939062459135), ('english', 35.17407218261578), ('french', 34.75478206040548)]\n",
      "[44, 8688]\n",
      "[('su', 47.51171000657589), ('gksudo', 42.998652004396526), ('aptget', 41.79696052771198), ('kubuntudesktop', 41.367320124643335), ('buildessential', 41.00561568999859), ('flashpluginnonfree', 40.58610987180403), ('ubunturestrictedextras', 40.26652739897683), ('autoremove', 40.09590167064428), ('etcaptsourceslist', 39.91259071153677), ('ubuntudesktop', 39.83094652053735)]\n",
      "[93, 8558]\n",
      "[('livecd', 46.61111687887538), ('booting', 44.720889875203085), ('grubinstall', 43.37475802936153), ('acer', 42.989473829712914), ('cd', 42.94678550478767), ('jre', 41.88280846714362), ('gmail', 41.860559618983125), ('installer', 41.43187977859261), ('iso', 41.32591936781499), ('installs', 41.25985975475017)]\n",
      "[28, 8155]\n",
      "[('router', 44.03002462720996), ('soundcard', 39.67215732710505), ('desktops', 38.94881940404189), ('everytime', 38.26362954563933), ('ubuntucom', 36.759567090140415), ('alttab', 36.041687063079614), ('makefile', 35.83907630595143), ('newb', 35.32675443056042), ('oem', 35.261040711379586), ('id', 34.59973227386134)]\n"
     ]
    }
   ],
   "source": [
    "for topic in topic_rank[:5]:\n",
    "    print(topic)\n",
    "    print(tfidf_score[topic[0]][:10])"
   ]
  },
  {
   "cell_type": "code",
   "execution_count": null,
   "metadata": {
    "collapsed": true
   },
   "outputs": [],
   "source": []
  }
 ],
 "metadata": {
  "kernelspec": {
   "display_name": "Python 3",
   "language": "python",
   "name": "python3"
  },
  "language_info": {
   "codemirror_mode": {
    "name": "ipython",
    "version": 3
   },
   "file_extension": ".py",
   "mimetype": "text/x-python",
   "name": "python",
   "nbconvert_exporter": "python",
   "pygments_lexer": "ipython3",
   "version": "3.6.4"
  }
 },
 "nbformat": 4,
 "nbformat_minor": 2
}
