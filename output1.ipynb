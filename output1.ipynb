{
 "cells": [
  {
   "cell_type": "code",
   "execution_count": 1,
   "metadata": {},
   "outputs": [],
   "source": [
    "import pickle\n",
    "from nltk.corpus import brown, words\n",
    "from nltk.corpus import stopwords\n",
    "from gensim import corpora, models, similarities\n",
    "from collections import defaultdict\n",
    "import numpy as np"
   ]
  },
  {
   "cell_type": "code",
   "execution_count": 12,
   "metadata": {},
   "outputs": [],
   "source": [
    "with open('data/topic_conversation_200.pickle', 'rb') as handle:\n",
    "    topic_conversation = pickle.load(handle)"
   ]
  },
  {
   "cell_type": "code",
   "execution_count": 13,
   "metadata": {},
   "outputs": [],
   "source": [
    "topic_rank = sorted([[topic, len(topic_conversation[topic])]for topic in topic_conversation], key = lambda x : -x[1])"
   ]
  },
  {
   "cell_type": "code",
   "execution_count": 14,
   "metadata": {},
   "outputs": [
    {
     "name": "stdout",
     "output_type": "stream",
     "text": [
      "[21, 11654]\n",
      "[151, 6786]\n",
      "[120, 6267]\n",
      "[50, 5550]\n",
      "[185, 5227]\n",
      "[26, 5219]\n",
      "[2, 5110]\n",
      "[184, 4840]\n",
      "[28, 4640]\n",
      "[110, 4334]\n"
     ]
    }
   ],
   "source": [
    "for topic in topic_rank[:10]:\n",
    "    print(topic)"
   ]
  },
  {
   "cell_type": "code",
   "execution_count": 15,
   "metadata": {},
   "outputs": [],
   "source": [
    "wordSet = set(brown.words())"
   ]
  },
  {
   "cell_type": "code",
   "execution_count": 16,
   "metadata": {
    "collapsed": true
   },
   "outputs": [],
   "source": [
    "topic_words_count = defaultdict(dict)\n",
    "total_words_count = defaultdict(int)\n",
    "for topic in topic_conversation:\n",
    "    for sentence in topic_conversation[topic]:\n",
    "        for word in sentence:\n",
    "            if word not in wordSet:\n",
    "                topic_words_count[topic][word] =topic_words_count[topic].get(word, 0) + 1\n",
    "                total_words_count[word] += 1"
   ]
  },
  {
   "cell_type": "code",
   "execution_count": 17,
   "metadata": {},
   "outputs": [
    {
     "name": "stdout",
     "output_type": "stream",
     "text": [
      "1770736\n"
     ]
    }
   ],
   "source": [
    "tfidf_score = defaultdict(dict)\n",
    "N = sum(total_words_count[word] for word in total_words_count)\n",
    "print(N)\n",
    "for topic in topic_words_count:\n",
    "    for word in topic_words_count[topic]:\n",
    "        tf = np.log(1 + topic_words_count[topic][word])\n",
    "        idf = np.log(1 + N / total_words_count[word])\n",
    "        tfidf_score[topic][word] = tf * idf\n",
    "    tfidf_score[topic] = sorted(tfidf_score[topic].items(), key=lambda x : -x[1])"
   ]
  },
  {
   "cell_type": "code",
   "execution_count": 18,
   "metadata": {},
   "outputs": [
    {
     "name": "stdout",
     "output_type": "stream",
     "text": [
      "[21, 11654]\n",
      "[('ntfs', 47.08658179681597), ('resize', 46.729482114104044), ('resizing', 44.42222122901447), ('viruses', 43.9658692977795), ('fat32', 42.92483630106753), ('antivirus', 41.98609702100058), ('sucks', 41.56167680558634), ('mbr', 41.369168536289294), ('xp', 41.31023749820521), ('bootloader', 40.826314825952025)]\n",
      "[151, 6786]\n",
      "[('firestarter', 41.43808890763026), ('wiki', 38.20509163808977), ('nvidiasettings', 36.751219272895476), ('hehe', 36.28043879794876), ('pm', 34.79283205969733), ('plz', 34.4161024434664), ('pls', 32.78645112476748), ('firewall', 32.53667888552083), ('iptables', 32.482696712866385), ('frontend', 31.613639415713372)]\n",
      "[120, 6267]\n",
      "[('ubuntubr', 44.60190587961667), ('dmesg', 44.40610032517253), ('defrag', 39.87869977399842), ('brb', 39.36967773105288), ('thnx', 39.31621795641437), ('bsd', 37.591211222083025), ('addons', 36.856251966900004), ('gwibber', 36.746406445738394), ('brasileiro', 34.85527632068467), ('didnt', 33.68014465039274)]\n",
      "[50, 5550]\n",
      "[('mysql', 45.01632504782581), ('winehq', 44.588104437367996), ('phpmyadmin', 42.565716043885246), ('exe', 41.93169347250432), ('appdb', 41.678124710141624), ('directx', 41.62648618786401), ('cedega', 41.56011899518951), ('broadcom', 41.02899356234328), ('usplash', 39.69189764694511), ('warcraft', 38.787156044408334)]\n",
      "[185, 5227]\n",
      "[('nvidia', 45.905527822224954), ('geforce', 42.57793831008782), ('nv', 42.14213645053258), ('ati', 41.049659516590445), ('proprietary', 40.14452307279339), ('nvidiaglx', 40.1203384727858), ('nvidiacom', 38.43392070577614), ('graphics', 38.032916002094666), ('gt', 38.01835415781403), ('samsung', 37.93493353162431)]\n"
     ]
    }
   ],
   "source": [
    "for topic in topic_rank[:5]:\n",
    "    print(topic)\n",
    "    print(tfidf_score[topic[0]][:10])"
   ]
  },
  {
   "cell_type": "code",
   "execution_count": null,
   "metadata": {
    "collapsed": true
   },
   "outputs": [],
   "source": []
  }
 ],
 "metadata": {
  "kernelspec": {
   "display_name": "Python 3",
   "language": "python",
   "name": "python3"
  },
  "language_info": {
   "codemirror_mode": {
    "name": "ipython",
    "version": 3
   },
   "file_extension": ".py",
   "mimetype": "text/x-python",
   "name": "python",
   "nbconvert_exporter": "python",
   "pygments_lexer": "ipython3",
   "version": "3.6.4"
  }
 },
 "nbformat": 4,
 "nbformat_minor": 2
}
