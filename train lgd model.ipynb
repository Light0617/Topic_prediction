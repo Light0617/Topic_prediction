{
 "cells": [
  {
   "cell_type": "code",
   "execution_count": 44,
   "metadata": {},
   "outputs": [],
   "source": [
    "import pickle\n",
    "from nltk.corpus import words, brown\n",
    "from nltk.corpus import stopwords\n",
    "from gensim import corpora, models, similarities\n",
    "import numpy as np"
   ]
  },
  {
   "cell_type": "code",
   "execution_count": 2,
   "metadata": {},
   "outputs": [],
   "source": [
    "with open('data/flateen_texts1.pickle', 'rb') as handle:\n",
    "    texts = pickle.load(handle)"
   ]
  },
  {
   "cell_type": "code",
   "execution_count": 3,
   "metadata": {},
   "outputs": [],
   "source": [
    "dictionary = corpora.Dictionary.load('data/corpora.dict')"
   ]
  },
  {
   "cell_type": "code",
   "execution_count": 4,
   "metadata": {},
   "outputs": [],
   "source": [
    "corpus = [dictionary.doc2bow(sentenct) for sentenct in texts]"
   ]
  },
  {
   "cell_type": "code",
   "execution_count": 6,
   "metadata": {},
   "outputs": [
    {
     "name": "stderr",
     "output_type": "stream",
     "text": [
      "/Users/light0617/anaconda2/envs/py36/lib/python3.6/site-packages/gensim/models/ldamodel.py:775: RuntimeWarning: divide by zero encountered in log\n",
      "  diff = np.log(self.expElogbeta)\n"
     ]
    }
   ],
   "source": [
    "lda = models.LdaModel(corpus, num_topics=100)"
   ]
  },
  {
   "cell_type": "code",
   "execution_count": 31,
   "metadata": {
    "scrolled": false
   },
   "outputs": [
    {
     "name": "stdout",
     "output_type": "stream",
     "text": [
      "[] []\n",
      "['мне', 'кто', 'нибудь', 'ответит', 'кто', 'всё', 'эти', 'люди', 'а', 'что', 'там', 'есть', 'а', 'что', 'это'] []\n",
      "['ты', 'в', 'да', 'заебали', 'в', 'там', 'это', 'почему'] []\n"
     ]
    }
   ],
   "source": [
    "from collections import defaultdict\n",
    "topic_conversation = defaultdict(list)\n",
    "k = 0\n",
    "for snetence in texts:\n",
    "    vec = lda[dictionary.doc2bow(snetence)]\n",
    "    try:\n",
    "        prob,topic = max([prob,topic] for topic, prob in vec)\n",
    "        topic_conversation[topic].append(snetence)\n",
    "    except:\n",
    "        topic_conversation[100].append(snetence)\n",
    "        if k < 3:\n",
    "            print (snetence, vec)\n",
    "        k += 1"
   ]
  },
  {
   "cell_type": "code",
   "execution_count": 50,
   "metadata": {
    "collapsed": true
   },
   "outputs": [],
   "source": [
    "with open('data/topic_conversation.pickle', 'wb') as handle:\n",
    "    pickle.dump(topic_conversation, handle, protocol=pickle.HIGHEST_PROTOCOL)"
   ]
  },
  {
   "cell_type": "code",
   "execution_count": 32,
   "metadata": {
    "collapsed": true
   },
   "outputs": [],
   "source": [
    "topic_rank = sorted([[topic, len(topic_conversation[topic])]for topic in topic_conversation], key = lambda x : -x[1])"
   ]
  },
  {
   "cell_type": "code",
   "execution_count": null,
   "metadata": {
    "collapsed": true
   },
   "outputs": [],
   "source": [
    "for topic in topic_rank[:10]:\n",
    "    print(topic)"
   ]
  }
 ],
 "metadata": {
  "kernelspec": {
   "display_name": "Python 3",
   "language": "python",
   "name": "python3"
  },
  "language_info": {
   "codemirror_mode": {
    "name": "ipython",
    "version": 3
   },
   "file_extension": ".py",
   "mimetype": "text/x-python",
   "name": "python",
   "nbconvert_exporter": "python",
   "pygments_lexer": "ipython3",
   "version": "3.6.4"
  }
 },
 "nbformat": 4,
 "nbformat_minor": 2
}
